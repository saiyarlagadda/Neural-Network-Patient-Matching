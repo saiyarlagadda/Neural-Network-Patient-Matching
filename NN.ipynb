{
 "cells": [
  {
   "cell_type": "markdown",
   "id": "3338af10-ea0d-437a-8bef-d7b7482d83f8",
   "metadata": {},
   "source": [
    "# Neural Network Patient Matching"
   ]
  },
  {
   "cell_type": "markdown",
   "id": "a6766fcd-0280-435a-b353-e0afd26496f0",
   "metadata": {},
   "source": [
    "## Importing Dependencies"
   ]
  },
  {
   "cell_type": "code",
   "execution_count": 2,
   "id": "132541e4-a3f1-4ed6-98ab-977ca56f54bf",
   "metadata": {},
   "outputs": [],
   "source": [
    "import chars2vec\n",
    "import pandas as pd\n",
    "import numpy as np"
   ]
  },
  {
   "cell_type": "markdown",
   "id": "e69957da-fc1b-4ebb-a2d6-5c37d225dc78",
   "metadata": {},
   "source": [
    "## Loading Pre-Trained Model"
   ]
  },
  {
   "cell_type": "code",
   "execution_count": 3,
   "id": "41e944ef-f99d-4801-8547-488e72a90aac",
   "metadata": {},
   "outputs": [],
   "source": [
    "c2v_model = chars2vec.load_model('eng_50')"
   ]
  },
  {
   "cell_type": "markdown",
   "id": "5f5ce42b-b3dd-4fc0-9103-1dd676980449",
   "metadata": {},
   "source": [
    "## Data Pre-processing"
   ]
  },
  {
   "cell_type": "code",
   "execution_count": 4,
   "id": "2afb690d-e3fb-4653-9aed-49c1a00042c0",
   "metadata": {},
   "outputs": [],
   "source": [
    "df = pd.read_csv('augmented_data_with_errors.csv')"
   ]
  },
  {
   "cell_type": "code",
   "execution_count": null,
   "id": "7b5cb095-65e5-4c1e-b0e8-d354597453bf",
   "metadata": {},
   "outputs": [],
   "source": []
  }
 ],
 "metadata": {
  "kernelspec": {
   "display_name": "Python 3 (ipykernel)",
   "language": "python",
   "name": "python3"
  },
  "language_info": {
   "codemirror_mode": {
    "name": "ipython",
    "version": 3
   },
   "file_extension": ".py",
   "mimetype": "text/x-python",
   "name": "python",
   "nbconvert_exporter": "python",
   "pygments_lexer": "ipython3",
   "version": "3.12.0"
  }
 },
 "nbformat": 4,
 "nbformat_minor": 5
}
